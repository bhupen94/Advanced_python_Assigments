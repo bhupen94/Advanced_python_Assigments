{
 "cells": [
  {
   "cell_type": "code",
   "execution_count": 27,
   "metadata": {},
   "outputs": [],
   "source": [
    "class Restaurant:  \n",
    "    \"\"\"creating on restaurent class for  details\"\"\"\n",
    "    \n",
    "    def __init__(self,restaurant_name,cuisine_type): # parameters\n",
    "        self.restaurant_name = restaurant_name\n",
    "        self.cuisine_type = cuisine_type\n",
    "        print('this is about Restaurant ')   \n",
    "        \n",
    "    def open_restaurant(self):\n",
    "        print(f\" Restaurant {self.restaurant_name} is now open\")\n",
    "        \n",
    "    def close_restaurant(self):\n",
    "        print(f\" Restaurant {self.restaurant_name} is now close\") \n",
    "        \n",
    "    def descibe_restaurant(self):\n",
    "        print(f\"{self.restaurant_name} is now open and serving {self.cuisine_type}\")\n",
    "        "
   ]
  },
  {
   "cell_type": "code",
   "execution_count": 28,
   "metadata": {},
   "outputs": [
    {
     "name": "stdout",
     "output_type": "stream",
     "text": [
      "this is about Restaurant \n"
     ]
    }
   ],
   "source": [
    "hotel = Restaurant('Bhupen','Indian')"
   ]
  },
  {
   "cell_type": "code",
   "execution_count": 18,
   "metadata": {},
   "outputs": [
    {
     "name": "stdout",
     "output_type": "stream",
     "text": [
      " Restaurant Bhupen is now open\n"
     ]
    }
   ],
   "source": [
    "hotel.open_restaurant()"
   ]
  },
  {
   "cell_type": "code",
   "execution_count": 19,
   "metadata": {},
   "outputs": [
    {
     "name": "stdout",
     "output_type": "stream",
     "text": [
      "Bhupen is now open and serving Indian\n"
     ]
    }
   ],
   "source": [
    "hotel.descibe_restaurant()"
   ]
  },
  {
   "cell_type": "code",
   "execution_count": 23,
   "metadata": {},
   "outputs": [
    {
     "name": "stdout",
     "output_type": "stream",
     "text": [
      "Bhupen is now close\n"
     ]
    }
   ],
   "source": [
    "hotel.close_restaurant()"
   ]
  },
  {
   "cell_type": "code",
   "execution_count": null,
   "metadata": {},
   "outputs": [],
   "source": []
  }
 ],
 "metadata": {
  "kernelspec": {
   "display_name": "Python 3",
   "language": "python",
   "name": "python3"
  },
  "language_info": {
   "codemirror_mode": {
    "name": "ipython",
    "version": 3
   },
   "file_extension": ".py",
   "mimetype": "text/x-python",
   "name": "python",
   "nbconvert_exporter": "python",
   "pygments_lexer": "ipython3",
   "version": "3.7.4"
  }
 },
 "nbformat": 4,
 "nbformat_minor": 2
}
